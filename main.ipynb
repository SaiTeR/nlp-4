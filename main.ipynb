{
 "cells": [
  {
   "cell_type": "code",
   "execution_count": null,
   "metadata": {},
   "outputs": [
    {
     "name": "stderr",
     "output_type": "stream",
     "text": [
      "Some weights of the model checkpoint at bert-base-multilingual-uncased were not used when initializing BertForMaskedLM: ['bert.pooler.dense.bias', 'bert.pooler.dense.weight', 'cls.seq_relationship.bias', 'cls.seq_relationship.weight']\n",
      "- This IS expected if you are initializing BertForMaskedLM from the checkpoint of a model trained on another task or with another architecture (e.g. initializing a BertForSequenceClassification model from a BertForPreTraining model).\n",
      "- This IS NOT expected if you are initializing BertForMaskedLM from the checkpoint of a model that you expect to be exactly identical (initializing a BertForSequenceClassification model from a BertForSequenceClassification model).\n"
     ]
    },
    {
     "name": "stdout",
     "output_type": "stream",
     "text": [
      "№    Word                 Weight     Match     \n",
      "--------------------------------------------------\n",
      "1    себе                 0.2319     [Match]   \n",
      "2    нем                  0.1303               \n",
      "3    том                  0.0641               \n",
      "4    любви                0.0547               \n",
      "5    работе               0.0470     [Match]   \n",
      "6    жизни                0.0384               \n",
      "7    неи                  0.0355               \n",
      "8    деле                 0.0265               \n",
      "9    них                  0.0235               \n"
     ]
    }
   ],
   "source": [
    "from transformers import BertTokenizer, BertForMaskedLM\n",
    "from torch.nn import functional as F\n",
    "import torch\n",
    "\n",
    "text = \"Он думает только о \" + tokenizer.mask_token + \", и совсем не думает о слухах на \" + tokenizer.mask_token + \".\"\n",
    "\n",
    "tokenizer = BertTokenizer.from_pretrained('bert-base-multilingual-uncased')\n",
    "model = BertForMaskedLM.from_pretrained('bert-base-multilingual-uncased', return_dict=True)\n",
    "\n",
    "input_data = tokenizer.encode_plus(text, return_tensors=\"pt\")\n",
    "mask_indices = torch.where(input_data[\"input_ids\"][0] == tokenizer.mask_token_id)\n",
    "\n",
    "# Получение предсказаний модели\n",
    "output = model(**input_data)\n",
    "logits = output.logits\n",
    "\n",
    "# softmax для получения вероятностей\n",
    "probabilities = F.softmax(logits, dim=-1)\n",
    "\n",
    "\n",
    "\n",
    "print(f\"{'№':<4} {'Word':<20} {'Weight':<10} {'Match':<10}\")\n",
    "print(\"-\" * 50)\n",
    "\n",
    "i = 1\n",
    "for mask_idx in mask_indices[0]:\n",
    "    mask_probabilities = probabilities[0, mask_idx, :]\n",
    "    top_predictions = torch.topk(mask_probabilities, 10)\n",
    "\n",
    "    for token_id, score in zip(top_predictions.indices, top_predictions.values):\n",
    "        predicted_word = tokenizer.decode([token_id])\n",
    "        is_match = \"[Match]\" if predicted_word in {\"себе\", \"работе\"} else \"\"\n",
    "        \n",
    "        print(f\"{i:<4} {predicted_word:<20} {score.item():<10.4f} {is_match:<10}\")\n",
    "        \n",
    "        i += 1\n",
    "        if i == 10: break\n",
    "    if i == 10: break "
   ]
  }
 ],
 "metadata": {
  "kernelspec": {
   "display_name": "base",
   "language": "python",
   "name": "python3"
  },
  "language_info": {
   "codemirror_mode": {
    "name": "ipython",
    "version": 3
   },
   "file_extension": ".py",
   "mimetype": "text/x-python",
   "name": "python",
   "nbconvert_exporter": "python",
   "pygments_lexer": "ipython3",
   "version": "3.12.7"
  }
 },
 "nbformat": 4,
 "nbformat_minor": 2
}
