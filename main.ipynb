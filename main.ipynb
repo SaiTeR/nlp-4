{
 "cells": [
  {
   "cell_type": "code",
   "execution_count": null,
   "metadata": {},
   "outputs": [
    {
     "ename": "NameError",
     "evalue": "name 'tokenizer' is not defined",
     "output_type": "error",
     "traceback": [
      "\u001b[1;31m---------------------------------------------------------------------------\u001b[0m",
      "\u001b[1;31mNameError\u001b[0m                                 Traceback (most recent call last)",
      "Cell \u001b[1;32mIn[1], line 5\u001b[0m\n\u001b[0;32m      2\u001b[0m \u001b[38;5;28;01mfrom\u001b[39;00m \u001b[38;5;21;01mtorch\u001b[39;00m\u001b[38;5;21;01m.\u001b[39;00m\u001b[38;5;21;01mnn\u001b[39;00m \u001b[38;5;28;01mimport\u001b[39;00m functional \u001b[38;5;28;01mas\u001b[39;00m F\n\u001b[0;32m      3\u001b[0m \u001b[38;5;28;01mimport\u001b[39;00m \u001b[38;5;21;01mtorch\u001b[39;00m\n\u001b[1;32m----> 5\u001b[0m text \u001b[38;5;241m=\u001b[39m \u001b[38;5;124m\"\u001b[39m\u001b[38;5;124mОн думает только о \u001b[39m\u001b[38;5;124m\"\u001b[39m \u001b[38;5;241m+\u001b[39m tokenizer\u001b[38;5;241m.\u001b[39mmask_token \u001b[38;5;241m+\u001b[39m \u001b[38;5;124m\"\u001b[39m\u001b[38;5;124m.\u001b[39m\u001b[38;5;124m\"\u001b[39m\n\u001b[0;32m      7\u001b[0m tokenizer \u001b[38;5;241m=\u001b[39m BertTokenizer\u001b[38;5;241m.\u001b[39mfrom_pretrained(\u001b[38;5;124m'\u001b[39m\u001b[38;5;124mbert-base-multilingual-uncased\u001b[39m\u001b[38;5;124m'\u001b[39m)\n\u001b[0;32m      8\u001b[0m model \u001b[38;5;241m=\u001b[39m BertForMaskedLM\u001b[38;5;241m.\u001b[39mfrom_pretrained(\u001b[38;5;124m'\u001b[39m\u001b[38;5;124mbert-base-multilingual-uncased\u001b[39m\u001b[38;5;124m'\u001b[39m, return_dict\u001b[38;5;241m=\u001b[39m\u001b[38;5;28;01mTrue\u001b[39;00m)\n",
      "\u001b[1;31mNameError\u001b[0m: name 'tokenizer' is not defined"
     ]
    }
   ],
   "source": [
    "from transformers import BertTokenizer, BertForMaskedLM\n",
    "from torch.nn import functional as F\n",
    "import torch\n",
    "\n",
    "\n",
    "\n",
    "tokenizer = BertTokenizer.from_pretrained('bert-base-multilingual-uncased')\n",
    "model = BertForMaskedLM.from_pretrained('bert-base-multilingual-uncased', return_dict=True)\n",
    "\n",
    "text = \"Он думает только о \" + tokenizer.mask_token + \".\"\n",
    "\n",
    "input_data = tokenizer.encode_plus(text, return_tensors=\"pt\")\n",
    "mask_indices = torch.where(input_data[\"input_ids\"][0] == tokenizer.mask_token_id)\n",
    "\n",
    "# Получение предсказаний модели\n",
    "output = model(**input_data)\n",
    "logits = output.logits\n",
    "\n",
    "# softmax для получения вероятностей\n",
    "probabilities = F.softmax(logits, dim=-1)\n",
    "\n",
    "\n",
    "\n",
    "print(f\"{'№':<4} {'Word':<20} {'Weight':<10} {'Match':<10}\")\n",
    "print(\"-\" * 50)\n",
    "\n",
    "i = 1\n",
    "for mask_idx in mask_indices[0]:\n",
    "    mask_probabilities = probabilities[0, mask_idx, :]\n",
    "    top_predictions = torch.topk(mask_probabilities, 10)\n",
    "\n",
    "    for token_id, score in zip(top_predictions.indices, top_predictions.values):\n",
    "        predicted_word = tokenizer.decode([token_id])\n",
    "        is_match = \"[Match]\" if predicted_word in {\"себе\", \"работе\"} else \"\"\n",
    "        \n",
    "        print(f\"{i:<4} {predicted_word:<20} {score.item():<10.4f} {is_match:<10}\")\n",
    "        \n",
    "        i += 1\n",
    "        if i == 10: break\n",
    "    if i == 10: break "
   ]
  }
 ],
 "metadata": {
  "kernelspec": {
   "display_name": "base",
   "language": "python",
   "name": "python3"
  },
  "language_info": {
   "codemirror_mode": {
    "name": "ipython",
    "version": 3
   },
   "file_extension": ".py",
   "mimetype": "text/x-python",
   "name": "python",
   "nbconvert_exporter": "python",
   "pygments_lexer": "ipython3",
   "version": "3.12.7"
  }
 },
 "nbformat": 4,
 "nbformat_minor": 2
}
